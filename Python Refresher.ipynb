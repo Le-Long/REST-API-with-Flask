{
 "cells": [
  {
   "cell_type": "markdown",
   "metadata": {},
   "source": [
    "# Chapter 7 : Transformations"
   ]
  },
  {
   "cell_type": "markdown",
   "metadata": {},
   "source": [
    "We can create lists, dictionaries or set easily iterating elements of an existing list with a for loop. We can also create a generator, which is not a data type but an object so can only be used function for iterable."
   ]
  },
  {
   "cell_type": "code",
   "execution_count": 2,
   "metadata": {},
   "outputs": [
    {
     "data": {
      "text/plain": [
       "[2, 4, 6, 8]"
      ]
     },
     "execution_count": 2,
     "metadata": {},
     "output_type": "execute_result"
    }
   ],
   "source": [
    "[val for val in range(1,9) if val % 2 == 0]"
   ]
  },
  {
   "cell_type": "code",
   "execution_count": 3,
   "metadata": {},
   "outputs": [
    {
     "data": {
      "text/plain": [
       "{1: 1, 2: 4, 3: 9}"
      ]
     },
     "execution_count": 3,
     "metadata": {},
     "output_type": "execute_result"
    }
   ],
   "source": [
    "{key : key ** 2 for key in range(1,4)}"
   ]
  },
  {
   "cell_type": "code",
   "execution_count": 4,
   "metadata": {},
   "outputs": [
    {
     "data": {
      "text/plain": [
       "<generator object <genexpr> at 0x000001C435806570>"
      ]
     },
     "execution_count": 4,
     "metadata": {},
     "output_type": "execute_result"
    }
   ],
   "source": [
    "(val for val in range(1,100))"
   ]
  },
  {
   "cell_type": "code",
   "execution_count": 5,
   "metadata": {},
   "outputs": [
    {
     "name": "stdout",
     "output_type": "stream",
     "text": [
      "1\n",
      "2\n",
      "3\n",
      "4\n",
      "5\n",
      "6\n",
      "7\n",
      "8\n",
      "9\n"
     ]
    }
   ],
   "source": [
    "for i in (val for val in range(1,10)):\n",
    "    print(i)"
   ]
  },
  {
   "cell_type": "markdown",
   "metadata": {},
   "source": [
    "# Chapter 8 : Functions"
   ]
  },
  {
   "cell_type": "markdown",
   "metadata": {},
   "source": [
    "Functions are code that is defined to reuse in the future. Functions take parameters as input and can return values as output or none. You can write a file/module consisted of only functions and then import it to use."
   ]
  },
  {
   "cell_type": "code",
   "execution_count": 10,
   "metadata": {},
   "outputs": [],
   "source": [
    "def f():\n",
    "    return\n",
    "f()"
   ]
  },
  {
   "cell_type": "code",
   "execution_count": 24,
   "metadata": {},
   "outputs": [
    {
     "data": {
      "text/plain": [
       "(5, -1)"
      ]
     },
     "execution_count": 24,
     "metadata": {},
     "output_type": "execute_result"
    }
   ],
   "source": [
    "def func(a, b):\n",
    "    return a + b, a - b\n",
    "func(2, b=3)"
   ]
  },
  {
   "cell_type": "markdown",
   "metadata": {},
   "source": [
    "# Chapter 2 : A Full Python Refresher"
   ]
  },
  {
   "cell_type": "markdown",
   "metadata": {},
   "source": [
    "- f-string let you add variables to string.\n",
    "- Destructuring can break a collection into variables. We can use * to destruct a list and ** to destruct a dictionary.\n",
    "- Lambda expressions are short function that don't need names and are often used with map() function.\n",
    "- We can use classes to try to create objects that have some same characteristics to real life. Then you can program using object-oriented paradigm and use suitable design pattern. \n",
    "- Python can find module to import with sys.path\n",
    "- You can try a code that may raise error so that if a error really exist, we can catch it with except.\n",
    "- In Python functions are used as first-class objects, which are equal to variables. That means they can be input or output of other function or lambda. Therefore we can wrap a function with another function, the new function now is called \"decorator\". However decorator can only take the old function as input, so to add parameters to it we have to wrap it in a bigger function. "
   ]
  },
  {
   "cell_type": "code",
   "execution_count": 15,
   "metadata": {},
   "outputs": [],
   "source": [
    "a = 1000\n",
    "b = 1000\n",
    "if a is b:\n",
    "    print(\"OK\")"
   ]
  },
  {
   "cell_type": "code",
   "execution_count": 25,
   "metadata": {},
   "outputs": [
    {
     "data": {
      "text/plain": [
       "'abe is funny'"
      ]
     },
     "execution_count": 25,
     "metadata": {},
     "output_type": "execute_result"
    }
   ],
   "source": [
    "name = \"Abe\"\n",
    "f\"{name.lower()} is funny\""
   ]
  },
  {
   "cell_type": "code",
   "execution_count": 28,
   "metadata": {},
   "outputs": [
    {
     "data": {
      "text/plain": [
       "(3, 're')"
      ]
     },
     "execution_count": 28,
     "metadata": {},
     "output_type": "execute_result"
    }
   ],
   "source": [
    "tup = 3, 5, 're',\n",
    "a, _, c = tup\n",
    "a, c"
   ]
  },
  {
   "cell_type": "code",
   "execution_count": 21,
   "metadata": {},
   "outputs": [
    {
     "data": {
      "text/plain": [
       "[2, 3, 4, 5]"
      ]
     },
     "execution_count": 21,
     "metadata": {},
     "output_type": "execute_result"
    }
   ],
   "source": [
    "head, *tail = (1,2,3,4,5)\n",
    "tail"
   ]
  },
  {
   "cell_type": "code",
   "execution_count": 29,
   "metadata": {},
   "outputs": [
    {
     "data": {
      "text/plain": [
       "8"
      ]
     },
     "execution_count": 29,
     "metadata": {},
     "output_type": "execute_result"
    }
   ],
   "source": [
    "def add(x, y):\n",
    "    return x + y\n",
    "args = {'x': 3, 'y': 5}\n",
    "add(**args)"
   ]
  },
  {
   "cell_type": "code",
   "execution_count": 44,
   "metadata": {},
   "outputs": [
    {
     "name": "stdout",
     "output_type": "stream",
     "text": [
      "Reading...\n",
      "A red file\n"
     ]
    }
   ],
   "source": [
    "class File:\n",
    "    def __init__(self, color):\n",
    "        self.color = color\n",
    "    @staticmethod\n",
    "    def read():\n",
    "        print(\"Reading...\")\n",
    "    def __repr__(self):\n",
    "        return f\"A {self.color} file\"\n",
    "    \n",
    "    \n",
    "pdf = File(\"red\")\n",
    "pdf.read()\n",
    "print(pdf)"
   ]
  },
  {
   "cell_type": "code",
   "execution_count": 45,
   "metadata": {},
   "outputs": [
    {
     "name": "stdout",
     "output_type": "stream",
     "text": [
      "It has more inside!\n",
      "A folder\n"
     ]
    }
   ],
   "source": [
    "class Folder(File):\n",
    "    def __init__(self, *files):\n",
    "        super().__init__(\"yellow\")\n",
    "        self.files = files\n",
    "    def __str__(self):\n",
    "        return f\"A folder\"\n",
    "    @staticmethod\n",
    "    def read():\n",
    "        print(\"It has more inside!\")\n",
    "        \n",
    "        \n",
    "a = Folder(pdf)\n",
    "a.read()\n",
    "print(a)"
   ]
  },
  {
   "cell_type": "code",
   "execution_count": 48,
   "metadata": {},
   "outputs": [
    {
     "name": "stdout",
     "output_type": "stream",
     "text": [
      "Can't divide by 0\n",
      "End\n"
     ]
    }
   ],
   "source": [
    "def fraction(a, b):\n",
    "    if (b == 0):\n",
    "        raise ZeroDivisionError(\"Can't divide by 0\")\n",
    "    return a / b\n",
    "\n",
    "\n",
    "try:\n",
    "    print(fraction(5,0))\n",
    "except ZeroDivisionError as e:\n",
    "    print(e)\n",
    "finally:\n",
    "    print(\"End\")"
   ]
  },
  {
   "cell_type": "code",
   "execution_count": 54,
   "metadata": {},
   "outputs": [
    {
     "name": "stdout",
     "output_type": "stream",
     "text": [
      "***********\n",
      "Hello,Abe\n"
     ]
    }
   ],
   "source": [
    "def decorator(func):\n",
    "    def decorate():\n",
    "        print (\"***********\")\n",
    "        func(name)\n",
    "    return decorate\n",
    "\n",
    "\n",
    "@decorator\n",
    "def hello(name):\n",
    "    print(f\"Hello,{name}\")\n",
    "    \n",
    "\n",
    "hello()"
   ]
  }
 ],
 "metadata": {
  "kernelspec": {
   "display_name": "Python 3",
   "language": "python",
   "name": "python3"
  },
  "language_info": {
   "codemirror_mode": {
    "name": "ipython",
    "version": 3
   },
   "file_extension": ".py",
   "mimetype": "text/x-python",
   "name": "python",
   "nbconvert_exporter": "python",
   "pygments_lexer": "ipython3",
   "version": "3.7.0"
  }
 },
 "nbformat": 4,
 "nbformat_minor": 4
}
